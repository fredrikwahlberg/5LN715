{
  "nbformat": 4,
  "nbformat_minor": 0,
  "metadata": {
    "colab": {
      "name": "Advanced Programming - Less Is More.ipynb",
      "provenance": [],
      "collapsed_sections": [],
      "toc_visible": true
    },
    "kernelspec": {
      "name": "python3",
      "display_name": "Python 3"
    }
  },
  "cells": [
    {
      "cell_type": "markdown",
      "metadata": {
        "id": "gzQZm6RpNI5H"
      },
      "source": [
        "# Advanced Programming : Less Is More\n",
        " \n",
        "*version 1, details/bugs in this notebook might be fixed within the first week of publication, you will be notified though studium if this happens.*\n",
        "\n",
        "Every programming language has design trade-offs. Maybe the most prominent for python is that it is fast to code in, but not particularly efficient. We get around this when coding machine learning applications by utilizing modules with fast backends. This is why you should try to use NumPy instead of writing a linear algebra algorithm in pure python. But what about those cases where there are no fast backends, and we have to code more complex algorithms ourselves? This lab is role-playing such a case, where we will have to optimize our code (and algorithm implementation) in order to get enough of a speed-up to make the code usable.\n",
        "\n",
        "The Mandelbrot zoom was a classic rite of initiation in some hacker circles in the 90s. We will do a version of this initiation rite, which is called the Julia fractal. The numbers in the Julia set are all complex numbers $z_0$, such that the series $z_{t+1} = z_t^2 + c$ is bounded (i.e. it does not go to infinity) given a $z_0$ in the interval $\\{z \\in \\mathbb{C}: \\operatorname{Re}(z) \\in [-2,2], \\; \\operatorname{Im}(z) \\in [-2,2]\\}$. $c$ is a complex constant, which we will vary to create animation frames. We set the pixel colour in relation to the number of iterations $n$ in the series before it diverges, defined as $|z_n| > 2$. Note that you are given functioning code. Hence, you don't need to understand all of the maths. We will approach this as hackers, not mathematicians.\n",
        "\n",
        "Pioneers in the field, like Gaston Julia and Benoit Mandelbrot, found these sets without using computers. For more on this, see:\n",
        "\n",
        "* Barnsley, M. F. (2014). \"*Fractals everywhere.*\" Academic press.\n",
        "\n",
        "* [Julia set](https://en.wikipedia.org/wiki/Julia_set)\n",
        "\n",
        "For this lab, you are given code for generating a Julia fractal animation, however, the code is written in pure python and is really slow. Your task is as follows:\n",
        " \n",
        "1. Copy the given code to the prepared cython code cell below.\n",
        "2. Step by step, optimize the code using the tricks discussed in [Cython for NumPy users](https://cython.readthedocs.io/en/latest/src/userguide/numpy_tutorial.html).\n",
        "3. The rendering of the frames is an *embarrassingly parallel* task. See to that your frames are rendered on several CPU cores.\n",
        "4. Generate a 500 frame video at a 1000x1000 pixel resolution. To make it look nicer, the original resolution should be 2000x2000, resized to half size after applying the colourmap. The code for this step is given below.\n",
        " \n",
        "You have passed when your code is **at least** 100 times faster than the given pure python implementation on an 8 core system. Good luck :)\n",
        " \n",
        "## Submission\n",
        " \n",
        "When you're done, hand in the notebook through studium. Requirements are:\n",
        "1. Clean the notebook from unused code and unnecessary text.\n",
        "2. Save the notebook with plotted images, but not the video (it’s too large).\n",
        "3. Comment on what was hard and easy in the assignment (in a handful of sentences)."
      ]
    },
    {
      "cell_type": "markdown",
      "metadata": {
        "id": "zhpEM0n5WtTn"
      },
      "source": [
        "## Given implementation\n",
        "\n",
        "Define a constant $c$."
      ]
    },
    {
      "cell_type": "code",
      "metadata": {
        "id": "t4OQXfkIZpkL"
      },
      "source": [
        "c = [complex(-0.835, -0.2321)]\n",
        "c"
      ],
      "execution_count": null,
      "outputs": []
    },
    {
      "cell_type": "markdown",
      "source": [
        "The generator function."
      ],
      "metadata": {
        "id": "d4W3TLYyHX_k"
      }
    },
    {
      "cell_type": "code",
      "metadata": {
        "id": "v0TdVQ-VWxzS"
      },
      "source": [
        "import numpy as np\n",
        "\n",
        "def julia_v0(c, n_iter = 64, size = (500, 500)):\n",
        "  \"\"\"Julia set generator\n",
        "  Generate Julia sets for multiple constants. The frames are returned as three\n",
        "  dimensional matrix.\n",
        "  \n",
        "  c: list(complex)\n",
        "    A list of complex numbers, used as the constant c for each Julia set frame.\n",
        "  n_iter: int\n",
        "    The maximum number of iterations when generateing the series.\n",
        "  size: tuple(int, int)\n",
        "    The size (height, width) of the output in pixels.\n",
        "\n",
        "  return: numpy.array\n",
        "    Numpy array as (frame, height, width), consisting of images of Julia sets.\n",
        "  \"\"\"\n",
        "  # Store the pixels as lists of lists\n",
        "  frames = list()\n",
        "  # Loop over frames\n",
        "  for frame in range(len(c)):\n",
        "    # Create the frame entry\n",
        "    frames.append(list())\n",
        "    # Loop over rows\n",
        "    for i in range(size[0]):\n",
        "      frames[-1].append(list())\n",
        "      # Loop over columns\n",
        "      for j in range(size[1]):\n",
        "        # Find the initial z, based on the position in the image\n",
        "        z = complex(-2+j*4/size[0], 2-i*4/size[1])\n",
        "        # \n",
        "        n = 0\n",
        "        # Iterate to generate the series. Loop until a maximum number of \n",
        "        # allowed iterations or until the series diverges.\n",
        "        while n < n_iter and abs(z) < 2: \n",
        "          # The update\n",
        "          z = z*z + c[frame]\n",
        "          # Increase the iteration counter\n",
        "          n += 1\n",
        "        # If the series did diverge, store the number of iterations it took (our\n",
        "        # colouring will be proportional to this). If not, store a zero.\n",
        "        if n == n_iter:\n",
        "          frames[-1][-1].append(0)\n",
        "        else:\n",
        "          frames[-1][-1].append(n)\n",
        "  # Return the frames to the user\n",
        "  return np.asarray(frames)"
      ],
      "execution_count": null,
      "outputs": []
    },
    {
      "cell_type": "markdown",
      "metadata": {
        "id": "-7-2qeJ6Zy64"
      },
      "source": [
        "Show one frame."
      ]
    },
    {
      "cell_type": "code",
      "metadata": {
        "id": "FUW_RxSSXR-R"
      },
      "source": [
        "import matplotlib.pyplot as plt   # Our standard plotting library\n",
        "\n",
        "frames = julia_v0(c, n_iter=32, size=(500, 500))\n",
        "\n",
        "plt.figure()\n",
        "plt.imshow(frames[0], cmap='gray')\n",
        "plt.axis('off')\n",
        "plt.show()"
      ],
      "execution_count": null,
      "outputs": []
    },
    {
      "cell_type": "markdown",
      "metadata": {
        "id": "RrwfCZ36XV5d"
      },
      "source": [
        "## Your optimized implementation"
      ]
    },
    {
      "cell_type": "markdown",
      "metadata": {
        "id": "krmWTCOWWrzn"
      },
      "source": [
        "### Use cython\n",
        "\n",
        "We can save a lot of time by simply compiling our code.\n",
        "\n",
        "The following loads the cython extension."
      ]
    },
    {
      "cell_type": "code",
      "metadata": {
        "id": "tNB-fFm4pVxb"
      },
      "source": [
        "%load_ext cython"
      ],
      "execution_count": null,
      "outputs": []
    },
    {
      "cell_type": "markdown",
      "metadata": {
        "id": "YEVbmiCkox1c"
      },
      "source": [
        "The first line defines the rest of the cell as cython code. The python code will be translated into C code and compiled."
      ]
    },
    {
      "cell_type": "code",
      "metadata": {
        "id": "K6DVzyByo8T6"
      },
      "source": [
        "%%cython -a\n",
        "\n",
        "import numpy as np\n",
        "cimport cython\n",
        "\n",
        "def julia_v1(c, n_iter = 64, size = (500, 500)):\n",
        "  raise NotImplementedError(\"This part is not finished yet.\")"
      ],
      "execution_count": null,
      "outputs": []
    },
    {
      "cell_type": "code",
      "metadata": {
        "id": "TBniEFOHZeLC"
      },
      "source": [
        "plt.figure()\n",
        "plt.imshow(julia_v1(c)[0], cmap='gray')\n",
        "plt.axis('off')\n",
        "plt.show()"
      ],
      "execution_count": null,
      "outputs": []
    },
    {
      "cell_type": "markdown",
      "metadata": {
        "id": "-lJuPitT5Xga"
      },
      "source": [
        "#### Line profiler\n",
        "\n",
        "A line profiler analyses each line of the code.\n",
        "\n",
        "For this to work in cython, you need to specify the following compiler macros.\n",
        "\n",
        "```\n",
        "# cython: linetrace=True\n",
        "# cython: binding=True\n",
        "# distutils: define_macros=CYTHON_TRACE_NOGIL=1\n",
        "```\n",
        "\n",
        "But first, the line profiler needs some underlying software to work."
      ]
    },
    {
      "cell_type": "code",
      "metadata": {
        "id": "isPdbkjHVOyp"
      },
      "source": [
        "!pip install line-profiler\n",
        "%load_ext line_profiler"
      ],
      "execution_count": null,
      "outputs": []
    },
    {
      "cell_type": "code",
      "metadata": {
        "id": "8DdJ7aQLOByq"
      },
      "source": [
        "%%cython -a\n",
        "# cython: linetrace=True\n",
        "# cython: binding=True\n",
        "# distutils: define_macros=CYTHON_TRACE_NOGIL=1\n",
        "\n",
        "import numpy as np\n",
        "cimport cython\n",
        "\n",
        "def julia_v1(c, n_iter = 64, size = (500, 500)):\n",
        "  raise NotImplementedError(\"This part is not finished yet.\")"
      ],
      "execution_count": null,
      "outputs": []
    },
    {
      "cell_type": "markdown",
      "metadata": {
        "id": "EzHhJrrOA4iE"
      },
      "source": [
        "To get an idea of where to start optimising, run the following cell and profile the given function. Try to find a critical inner loop and estimate the relative time spent there."
      ]
    },
    {
      "cell_type": "code",
      "metadata": {
        "id": "Ucx-7iUgA5WL"
      },
      "source": [
        "%lprun -f julia_v1 julia_v1(c)"
      ],
      "execution_count": null,
      "outputs": []
    },
    {
      "cell_type": "markdown",
      "metadata": {
        "id": "BQTon9uuV4dD"
      },
      "source": [
        "### Numpy array\n",
        "\n",
        "Re-write the lists of lists data structure as a numpy array. When changing basic functionality, it can be a good idea to implement the changes in your pure python code first, then move the new functionality to your cython implementation. This is because cython gives less feedback when something goes wrong.\n",
        "\n",
        "For more speed, look up the following decorators:\n",
        "```\n",
        "@cython.boundscheck(False)\n",
        "@cython.wraparound(False)\n",
        "```\n",
        "For even more speed, look up contiguous arrays.\n"
      ]
    },
    {
      "cell_type": "code",
      "metadata": {
        "id": "VwDLSdWpaDCG"
      },
      "source": [
        "%%cython -a\n",
        "\n",
        "import numpy as np\n",
        "cimport cython\n",
        "\n",
        "def julia_v2(c, n_iter = 64, size = (500, 500)):\n",
        "  raise NotImplementedError(\"This part is not finished yet.\")"
      ],
      "execution_count": null,
      "outputs": []
    },
    {
      "cell_type": "code",
      "metadata": {
        "id": "5_6UtBrIGcQu"
      },
      "source": [
        "plt.figure()\n",
        "plt.imshow(julia_v2(c)[0], cmap='gray')\n",
        "plt.axis('off')\n",
        "plt.show()"
      ],
      "execution_count": null,
      "outputs": []
    },
    {
      "cell_type": "markdown",
      "metadata": {
        "id": "bx5owQzyZZ5P"
      },
      "source": [
        "### Type some variables\n",
        "\n",
        "Try giving types to the indexing variables and the known integers. A surprisingly large amount of time is spent using these variables. Not because they do any heavy lifting, but simply because these pieces of code are run so many times."
      ]
    },
    {
      "cell_type": "code",
      "metadata": {
        "id": "GNiW5HIuA6-1"
      },
      "source": [
        "%%cython -a\n",
        "\n",
        "import numpy as np\n",
        "cimport cython\n",
        "\n",
        "def julia_v3(c, n_iter = 64, size = (500, 500)):\n",
        "  raise NotImplementedError(\"This part is not finished yet.\")"
      ],
      "execution_count": null,
      "outputs": []
    },
    {
      "cell_type": "code",
      "metadata": {
        "id": "_t681JRxPjPk"
      },
      "source": [
        "plt.figure()\n",
        "plt.imshow(julia_v3(c)[0], cmap='gray')\n",
        "plt.axis('off')\n",
        "plt.show()"
      ],
      "execution_count": null,
      "outputs": []
    },
    {
      "cell_type": "markdown",
      "metadata": {
        "id": "hLBBjQxVV9Dt"
      },
      "source": [
        "### Use doubles instead of python complex\n",
        "\n",
        "When implementing optimization using cython, one might get carried away optimizing memory access or data structures (is this just me?), forgetting the core part of the algorithm. If you go back to the line profiler output, you can see that the inner loop (with the complex numbers) is where most of the CPU power is spent. As a complex number can be represented as two floating point numbers, change the inner loop to use floating point variables instead of python's `complex` data type.\n",
        "\n",
        "If we parameterize the complex numbers z as (a, b), we can write the square $z_i = z^2_{i-1}$ as:\n",
        "\n",
        "a*a\n",
        "\n",
        "Try to find the smallest change you can do in your code, and test your changes thoroughly."
      ]
    },
    {
      "cell_type": "code",
      "metadata": {
        "id": "Ee02VQiUV_So"
      },
      "source": [
        "%%cython -a\n",
        "\n",
        "import numpy as np\n",
        "cimport cython\n",
        "\n",
        "def julia_v4(c, n_iter = 64, size = (500, 500)):\n",
        "  raise NotImplementedError(\"This part is not finished yet.\")"
      ],
      "execution_count": null,
      "outputs": []
    },
    {
      "cell_type": "code",
      "metadata": {
        "id": "adIymeB7V9hG"
      },
      "source": [
        "plt.figure()\n",
        "plt.imshow(julia_v4(c)[0], cmap='gray')\n",
        "plt.axis('off')\n",
        "plt.show()"
      ],
      "execution_count": null,
      "outputs": []
    },
    {
      "cell_type": "markdown",
      "metadata": {
        "id": "QK7FCCUKy-dS"
      },
      "source": [
        "### Look-up tables\n",
        "\n",
        "Look-up tables can be used anywhere that you are repeating a caluclation. The initial values for $z_0$ are the same for each frame."
      ]
    },
    {
      "cell_type": "code",
      "metadata": {
        "id": "cz7nYq6YzD2N"
      },
      "source": [
        "%%cython -a\n",
        "\n",
        "import numpy as np\n",
        "cimport cython\n",
        "\n",
        "def julia_v5(c, n_iter = 64, size = (500, 500)):\n",
        "  raise NotImplementedError(\"This part is not finished yet.\")"
      ],
      "execution_count": null,
      "outputs": []
    },
    {
      "cell_type": "code",
      "metadata": {
        "id": "kK3OGYXazD42"
      },
      "source": [
        "plt.figure()\n",
        "plt.imshow(julia_v5(c)[0], cmap='gray')\n",
        "plt.axis('off')\n",
        "plt.show()"
      ],
      "execution_count": null,
      "outputs": []
    },
    {
      "cell_type": "markdown",
      "metadata": {
        "id": "WsXP_-aTxGf6"
      },
      "source": [
        "### Multithreading\n",
        "\n",
        "As this task is embarrassingly parallel, you can implement multi-threading using `prange`. You need some compiler directive to make this work, see below."
      ]
    },
    {
      "cell_type": "code",
      "metadata": {
        "id": "1cdRvyj2xRL0"
      },
      "source": [
        "%%cython -a\n",
        "\n",
        "import numpy as np\n",
        "cimport cython\n",
        "\n",
        "def julia_v6(c, n_iter = 64, size = (500, 500)):\n",
        "  raise NotImplementedError(\"This part is not finished yet.\")"
      ],
      "execution_count": null,
      "outputs": []
    },
    {
      "cell_type": "code",
      "metadata": {
        "id": "E0kUVWGYxSoZ"
      },
      "source": [
        "plt.figure()\n",
        "plt.imshow(julia_v6(c)[0], cmap='gray')\n",
        "plt.axis('off')\n",
        "plt.show()"
      ],
      "execution_count": null,
      "outputs": []
    },
    {
      "cell_type": "markdown",
      "metadata": {
        "id": "Khl1B_mW_8Eh"
      },
      "source": [
        "## Compare execution times\n",
        "\n"
      ]
    },
    {
      "cell_type": "code",
      "metadata": {
        "id": "oS_1HsWV_8P1"
      },
      "source": [
        "benchmarking_c = [complex(0.7885*np.cos(angle), 0.7885*np.cos(angle)) for angle in np.linspace(0, 2*np.pi, 10)]\n",
        "max_iterations = 32\n",
        "t = %timeit -o -n1 -r1 julia_v0(benchmarking_c, n_iter = max_iterations, size = (500, 500))\n",
        "benchmarking = [(\"Original\", t.best)]\n",
        "t = %timeit -o -n1 -r1 julia_v1(benchmarking_c, n_iter = max_iterations, size = (500, 500))\n",
        "benchmarking.append((\"Cython\", t.best))\n",
        "t = %timeit -o -n1 -r1 julia_v2(benchmarking_c, n_iter = max_iterations, size = (500, 500))\n",
        "benchmarking.append((\"Numpy array\", t.best))\n",
        "t = %timeit -o -n1 -r1 julia_v3(benchmarking_c, n_iter = max_iterations, size = (500, 500))\n",
        "benchmarking.append((\"Basic typing\", t.best))\n",
        "t = %timeit -o julia_v4(benchmarking_c, n_iter = max_iterations, size = (500, 500))\n",
        "benchmarking.append((\"Inner loop\", t.best))\n",
        "t = %timeit -o julia_v5(benchmarking_c, n_iter = max_iterations, size = (500, 500))\n",
        "benchmarking.append((\"LUTs\", t.best))\n",
        "t = %timeit -o julia_v6(benchmarking_c, n_iter = max_iterations, size = (500, 500))\n",
        "benchmarking.append((\"Multithreading\", t.best))\n",
        "\n",
        "benchmarking"
      ],
      "execution_count": null,
      "outputs": []
    },
    {
      "cell_type": "code",
      "metadata": {
        "id": "7yoSqRVnF57B"
      },
      "source": [
        "fig = plt.figure(figsize=(12, 8))\n",
        "ax = fig.subplots(2, 1)\n",
        "ax[0].bar(np.arange(len(benchmarking)), [time for name, time in benchmarking])\n",
        "ax[0].set_xticks(np.arange(len(benchmarking)))\n",
        "ax[0].set_xticklabels([name for name, time in benchmarking])\n",
        "ax[0].set_ylabel(\"Time [seconds]\")\n",
        "speedup = benchmarking[0][1]/np.asarray([time for name, time in benchmarking])\n",
        "h = ax[1].bar(np.arange(len(benchmarking)), speedup)\n",
        "ax[1].set_xticks(np.arange(len(benchmarking)))\n",
        "ax[1].set_xticklabels([name for name, time in benchmarking])\n",
        "ax[1].set_ylabel(\"Speed-up\")\n",
        "# ax[1].set_yscale('log')\n",
        "fig.tight_layout()\n",
        "fig.show()"
      ],
      "execution_count": null,
      "outputs": []
    },
    {
      "cell_type": "markdown",
      "metadata": {
        "id": "LZ9SsdlN225P"
      },
      "source": [
        "## Making a video\n",
        "\n",
        "__*Don't run this until you are happy with your optimizations.*__\n",
        "\n",
        "To make the frames nicer, a colourmap is applied to the raw counts of iterations. There are more beautiful colourmaps, but none in opencv. You can try out other colourmaps as described [here](https://docs.opencv.org/3.4.9/d3/d50/group__imgproc__colormap.html).\n",
        "\n",
        "Below is a demo of the ones availible by default."
      ]
    },
    {
      "cell_type": "code",
      "metadata": {
        "id": "AUJPS7ab2tv2"
      },
      "source": [
        "import cv2\n",
        "\n",
        "frames = julia_v6(c, n_iter = 64, size = (500, 500))\n",
        "frame = np.asarray(255*frames[0]/frames[0].max(), dtype=np.uint8)\n",
        "flags = [(flag, eval(\"cv2.%s\" % flag)) for flag in dir(cv2) if flag[:8]==\"COLORMAP\"]\n",
        "\n",
        "rows = 4\n",
        "cols = (len(flags)+1)//rows\n",
        "if rows*cols < len(flags):\n",
        "  cols += 1\n",
        "\n",
        "fig = plt.figure(figsize=(cols*3, rows*3), dpi=100)\n",
        "ax = fig.subplots(rows, cols).ravel()\n",
        "ax[0].imshow(frame, cmap='gray')\n",
        "ax[0].set_title(\"Greyscale\")\n",
        "ax[0].axis('off')\n",
        "for i, (label, cv2_colormap) in enumerate(flags):\n",
        "  ax[i+1].imshow(cv2.cvtColor(cv2.applyColorMap(frame, cv2_colormap), cv2.COLOR_BGR2RGB))\n",
        "  ax[i+1].set_title(label)\n",
        "  ax[i+1].axis('off')\n",
        "ax[i+2].imshow(cv2.bitwise_not(cv2.cvtColor(cv2.applyColorMap(frame, cv2.COLORMAP_BONE), cv2.COLOR_BGR2RGB)))\n",
        "ax[i+2].set_title(label)\n",
        "ax[i+2].axis('off')\n",
        "fig.show()"
      ],
      "execution_count": null,
      "outputs": []
    },
    {
      "cell_type": "code",
      "metadata": {
        "id": "hAadjruRALHu"
      },
      "source": [
        "n_frames = 200\n",
        "n_iterations = 64\n",
        "\n",
        "import time\n",
        "print(\"Generating frames...\", end=\"\")\n",
        "t = time.time()\n",
        "frames = julia_v6([complex(0.7885*np.cos(angle), 0.7885*np.sin(angle)) for angle in np.linspace(0, 2*np.pi, n_frames, endpoint=False)], \n",
        "                  n_iter = n_iterations, size = (2000, 2000))\n",
        "print(\"done (%is)\" % (time.time()-t))"
      ],
      "execution_count": null,
      "outputs": []
    },
    {
      "cell_type": "markdown",
      "metadata": {
        "id": "ZUKzdbaGSdit"
      },
      "source": [
        "This code is for viewing a sample of the generated images.\n",
        "\n",
        "Note that opencv use BGR instead of RGB colour ordering."
      ]
    },
    {
      "cell_type": "code",
      "metadata": {
        "id": "2XKNpHkv9G3H"
      },
      "source": [
        "def process_image(frame, max_intensity=None):\n",
        "  import cv2\n",
        "  colormap = cv2.COLORMAP_HOT\n",
        "  if max_intensity is None:\n",
        "    image = np.asarray(255*frame/frame.max(), dtype=np.uint8)\n",
        "  else:\n",
        "    np.any(frame>max_intensity), \"Make sure the maximum intensity in the fram is lower than max_intensity\"\n",
        "    image = np.asarray(255*frame/max_intensity, dtype=np.uint8)\n",
        "  image = cv2.applyColorMap(image, colormap)\n",
        "  image = cv2.bitwise_not(image) # Inverse colours\n",
        "  image = cv2.resize(image, (image.shape[0]//2, image.shape[1]//2), interpolation=cv2.INTER_CUBIC)\n",
        "  return image\n",
        "\n",
        "fig = plt.figure(figsize=(5*3, 3), dpi=100)\n",
        "ax = fig.subplots(1, 5).ravel()\n",
        "for i, j in enumerate(np.linspace(0, frames.shape[0], 5, endpoint=False).astype(np.int)):\n",
        "  ax[i].imshow(cv2.cvtColor(process_image(frames[j]), cv2.COLOR_BGR2RGB))\n",
        "  ax[i].set_title(\"Frame %i\" % j)\n",
        "  ax[i].axis('off')\n",
        "fig.show()"
      ],
      "execution_count": null,
      "outputs": []
    },
    {
      "cell_type": "markdown",
      "metadata": {
        "id": "ZlbAW_hZ9Dcc"
      },
      "source": [
        "### MP4 video\n",
        "\n",
        "This writes the video to disk. Note that if you do this through colab, your video will be written to the viritual machine's disk. You can find some code for downloading the file below."
      ]
    },
    {
      "cell_type": "code",
      "metadata": {
        "id": "oKM8WGYW21Kb"
      },
      "source": [
        "from tqdm import tqdm\n",
        "\n",
        "# Prepare the writer class\n",
        "first_video_frame = process_image(frames[0])\n",
        "video = cv2.VideoWriter(filename='julia.mp4', \n",
        "                        fourcc = cv2.VideoWriter_fourcc(*'MP4V'), # video format\n",
        "                        fps = 20, \n",
        "                        frameSize = (first_video_frame.shape[1], first_video_frame.shape[0]))\n",
        "\n",
        "# Input the frames\n",
        "for i in tqdm(range(frames.shape[0])):\n",
        "  video.write(process_image(frames[i], max_intensity=64))\n",
        "\n",
        "# Write to disk\n",
        "video.release()\n",
        "\n",
        "# Show the files in your working directory\n",
        "!ls -l"
      ],
      "execution_count": null,
      "outputs": []
    },
    {
      "cell_type": "markdown",
      "metadata": {
        "id": "VKE_vnW5ZjWG"
      },
      "source": [
        "### GIF animation\n",
        "\n",
        "This creates a GIF animation from the frames with Julia sets. This method is a bit unreliable though and might cut frames sometimes. A simple fix is to use fewer frames in your animation."
      ]
    },
    {
      "cell_type": "code",
      "metadata": {
        "id": "3HM325N5Vz9C"
      },
      "source": [
        "import os.path\n",
        "\n",
        "if not os.path.exists(\"frames\"):\n",
        "  os.mkdir(\"frames\")\n",
        "else:\n",
        "  files = [\"frames/\" + fn for fn in os.listdir(\"frames\") if fn[-3:] == \"png\"]\n",
        "  for file in files:\n",
        "    os.remove(file)\n",
        "\n",
        "\n",
        "for i in tqdm(range(frames.shape[0]), desc=\"Writing frames to disk\"):\n",
        "  cv2.imwrite(\"frames/frame%03i.png\" % i, process_image(frames[i], max_intensity=64))"
      ],
      "execution_count": null,
      "outputs": []
    },
    {
      "cell_type": "markdown",
      "metadata": {
        "id": "JKDT7zyOcSga"
      },
      "source": [
        "We will need imagemagick for this."
      ]
    },
    {
      "cell_type": "code",
      "metadata": {
        "id": "FfUqwYK8W3fF"
      },
      "source": [
        "!apt-get update\n",
        "!apt-get install imagemagick"
      ],
      "execution_count": null,
      "outputs": []
    },
    {
      "cell_type": "code",
      "metadata": {
        "id": "WW_5cfZ4WyUG"
      },
      "source": [
        "# Studium course logo\n",
        "# height: 146px;\n",
        "# width: 262px;\n",
        "\n",
        "!convert -resize 262x146 -delay 5 -loop 0 frames/frame*.png julia.gif\n",
        "\n",
        "!ls -l"
      ],
      "execution_count": null,
      "outputs": []
    }
  ]
}